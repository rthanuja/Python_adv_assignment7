{
 "cells": [
  {
   "cell_type": "code",
   "execution_count": 1,
   "id": "622b7062",
   "metadata": {},
   "outputs": [],
   "source": [
    "'''2. There are many different styles of music and many albums exhibit multiple styles. Create a function that takes a\n",
    "list of musical styles from albums and returns how many styles are unique.'''\n",
    "def uniquestyles(l):\n",
    "    s=\",\".join(l)\n",
    "    s=s.split(\",\")\n",
    "    return len(set(s))"
   ]
  },
  {
   "cell_type": "code",
   "execution_count": 2,
   "id": "95952169",
   "metadata": {},
   "outputs": [
    {
     "data": {
      "text/plain": [
       "9"
      ]
     },
     "execution_count": 2,
     "metadata": {},
     "output_type": "execute_result"
    }
   ],
   "source": [
    "uniquestyles([\n",
    "\"Dub,Dancehall\",\n",
    "\"Industrial,Heavy Metal\",\n",
    "\"Techno,Dubstep\",\n",
    "\"Synth-pop,Euro-Disco\",\n",
    "\"Industrial,Techno,Minimal\"])"
   ]
  },
  {
   "cell_type": "code",
   "execution_count": 3,
   "id": "52e4450a",
   "metadata": {},
   "outputs": [
    {
     "data": {
      "text/plain": [
       "7"
      ]
     },
     "execution_count": 3,
     "metadata": {},
     "output_type": "execute_result"
    }
   ],
   "source": [
    "uniquestyles([\n",
    "\"Soul\",\n",
    "\"House,Folk\",\n",
    "\"Trance,Downtempo,Big Beat,House\",\n",
    "\"Deep House\",\n",
    "\"Soul\"\n",
    "])"
   ]
  },
  {
   "cell_type": "code",
   "execution_count": 4,
   "id": "c5da723d",
   "metadata": {},
   "outputs": [],
   "source": [
    "'''3. Create a function that finds a target number in a list of prime numbers.Implement a binary search algorithm \n",
    "in your function. The target number will be from 2 through 97. If the target is prime then return \"yes\" else return \"no\".'''\n",
    "def is_prime(l,n):\n",
    "    s=0\n",
    "    e=len(l)-1\n",
    "    while s<=e:\n",
    "        m=(s+e)//2\n",
    "        if (l[m]>n):\n",
    "            e=m-1\n",
    "        elif l[m]<n:\n",
    "            s=m+1\n",
    "        else:\n",
    "            return \"yes\"\n",
    "    return \"No\"\n"
   ]
  },
  {
   "cell_type": "code",
   "execution_count": 5,
   "id": "92baf286",
   "metadata": {},
   "outputs": [
    {
     "data": {
      "text/plain": [
       "'yes'"
      ]
     },
     "execution_count": 5,
     "metadata": {},
     "output_type": "execute_result"
    }
   ],
   "source": [
    "primes = [2, 3, 5, 7, 11, 13, 17, 19, 23, 29, 31, 37, 41, 43, 47, 53, 59, 61, 67,\n",
    "71, 73, 79, 83, 89, 97]\n",
    "is_prime(primes, 3)"
   ]
  },
  {
   "cell_type": "code",
   "execution_count": 6,
   "id": "65dc1e6f",
   "metadata": {},
   "outputs": [
    {
     "data": {
      "text/plain": [
       "'No'"
      ]
     },
     "execution_count": 6,
     "metadata": {},
     "output_type": "execute_result"
    }
   ],
   "source": [
    "is_prime(primes, 4)"
   ]
  },
  {
   "cell_type": "code",
   "execution_count": 7,
   "id": "514b1bc1",
   "metadata": {},
   "outputs": [
    {
     "data": {
      "text/plain": [
       "'yes'"
      ]
     },
     "execution_count": 7,
     "metadata": {},
     "output_type": "execute_result"
    }
   ],
   "source": [
    "is_prime(primes, 67)"
   ]
  },
  {
   "cell_type": "code",
   "execution_count": 8,
   "id": "48dbd102",
   "metadata": {},
   "outputs": [
    {
     "data": {
      "text/plain": [
       "'No'"
      ]
     },
     "execution_count": 8,
     "metadata": {},
     "output_type": "execute_result"
    }
   ],
   "source": [
    "is_prime(primes, 36)"
   ]
  },
  {
   "cell_type": "code",
   "execution_count": 9,
   "id": "51458f25",
   "metadata": {},
   "outputs": [],
   "source": [
    "'''4. Create a function that takes in n, a, b and returns the number of positive values raised to the nth power that lie \n",
    "in the range [a, b], inclusive.'''\n",
    "def powerranger(n,a,b):\n",
    "    l=list(range(a,b+1))\n",
    "    t=0\n",
    "    for i in range(1,int(b**(1/n))+1):\n",
    "        if i**n in l:\n",
    "            t+=1\n",
    "    return t       "
   ]
  },
  {
   "cell_type": "code",
   "execution_count": 10,
   "id": "a29dbcda",
   "metadata": {},
   "outputs": [
    {
     "data": {
      "text/plain": [
       "2"
      ]
     },
     "execution_count": 10,
     "metadata": {},
     "output_type": "execute_result"
    }
   ],
   "source": [
    "powerranger(2,49,65)"
   ]
  },
  {
   "cell_type": "code",
   "execution_count": 11,
   "id": "c6fd6e3b",
   "metadata": {},
   "outputs": [
    {
     "data": {
      "text/plain": [
       "3"
      ]
     },
     "execution_count": 11,
     "metadata": {},
     "output_type": "execute_result"
    }
   ],
   "source": [
    "powerranger(3,1,27)"
   ]
  },
  {
   "cell_type": "code",
   "execution_count": 12,
   "id": "54c17b44",
   "metadata": {},
   "outputs": [
    {
     "data": {
      "text/plain": [
       "1"
      ]
     },
     "execution_count": 12,
     "metadata": {},
     "output_type": "execute_result"
    }
   ],
   "source": [
    "powerranger(10,1,5)"
   ]
  },
  {
   "cell_type": "code",
   "execution_count": 13,
   "id": "de5eb979",
   "metadata": {},
   "outputs": [
    {
     "data": {
      "text/plain": [
       "1"
      ]
     },
     "execution_count": 13,
     "metadata": {},
     "output_type": "execute_result"
    }
   ],
   "source": [
    "powerranger(5,31,33)"
   ]
  },
  {
   "cell_type": "code",
   "execution_count": 14,
   "id": "ceb9b4c1",
   "metadata": {},
   "outputs": [
    {
     "data": {
      "text/plain": [
       "3"
      ]
     },
     "execution_count": 14,
     "metadata": {},
     "output_type": "execute_result"
    }
   ],
   "source": [
    "powerranger(4,250,1300)"
   ]
  },
  {
   "cell_type": "code",
   "execution_count": 15,
   "id": "4897c2ae",
   "metadata": {},
   "outputs": [],
   "source": [
    "'''5. Given a number, return the difference between the maximum and minimum numbers that can be formed when the digits are \n",
    "rearranged.'''\n",
    "def rearranged_difference(n):\n",
    "    n=list(str(n))\n",
    "    n.sort()\n",
    "    n=\"\".join(n)\n",
    "    return (int(n[::-1])-int(n))"
   ]
  },
  {
   "cell_type": "code",
   "execution_count": 16,
   "id": "1f3e1c61",
   "metadata": {},
   "outputs": [
    {
     "data": {
      "text/plain": [
       "760833"
      ]
     },
     "execution_count": 16,
     "metadata": {},
     "output_type": "execute_result"
    }
   ],
   "source": [
    "rearranged_difference(972882)"
   ]
  },
  {
   "cell_type": "code",
   "execution_count": 17,
   "id": "62d4d781",
   "metadata": {},
   "outputs": [
    {
     "data": {
      "text/plain": [
       "7709823"
      ]
     },
     "execution_count": 17,
     "metadata": {},
     "output_type": "execute_result"
    }
   ],
   "source": [
    "rearranged_difference(3320707)"
   ]
  },
  {
   "cell_type": "code",
   "execution_count": 18,
   "id": "c30f8fd1",
   "metadata": {},
   "outputs": [
    {
     "data": {
      "text/plain": [
       "90981"
      ]
     },
     "execution_count": 18,
     "metadata": {},
     "output_type": "execute_result"
    }
   ],
   "source": [
    "rearranged_difference(90010)"
   ]
  }
 ],
 "metadata": {
  "kernelspec": {
   "display_name": "Python 3 (ipykernel)",
   "language": "python",
   "name": "python3"
  },
  "language_info": {
   "codemirror_mode": {
    "name": "ipython",
    "version": 3
   },
   "file_extension": ".py",
   "mimetype": "text/x-python",
   "name": "python",
   "nbconvert_exporter": "python",
   "pygments_lexer": "ipython3",
   "version": "3.10.9"
  }
 },
 "nbformat": 4,
 "nbformat_minor": 5
}
